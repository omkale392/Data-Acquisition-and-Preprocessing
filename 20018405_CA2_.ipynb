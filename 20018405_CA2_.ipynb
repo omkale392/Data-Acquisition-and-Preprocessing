{
  "nbformat": 4,
  "nbformat_minor": 0,
  "metadata": {
    "colab": {
      "provenance": [],
      "authorship_tag": "ABX9TyNfz6ryMyAvxuk5d/RFeHYL",
      "include_colab_link": true
    },
    "kernelspec": {
      "name": "python3",
      "display_name": "Python 3"
    },
    "language_info": {
      "name": "python"
    }
  },
  "cells": [
    {
      "cell_type": "markdown",
      "metadata": {
        "id": "view-in-github",
        "colab_type": "text"
      },
      "source": [
        "<a href=\"https://colab.research.google.com/github/omkale392/Data-Acquisition-and-Preprocessing/blob/main/20018405_CA2_.ipynb\" target=\"_parent\"><img src=\"https://colab.research.google.com/assets/colab-badge.svg\" alt=\"Open In Colab\"/></a>"
      ]
    },
    {
      "cell_type": "code",
      "execution_count": 26,
      "metadata": {
        "id": "vhfIeyW0SG2k"
      },
      "outputs": [],
      "source": [
        "# Importing Libraries\n",
        "from bs4 import BeautifulSoup\n",
        "import requests\n",
        "import pandas as pd\n",
        "import sqlite3\n",
        "import numpy as np"
      ]
    },
    {
      "cell_type": "code",
      "source": [
        "url = 'https://web.archive.org/web/20230902185655/https://en.everybodywiki.com/100_Most_Highly-Ranked_Films' # URL initialization\n",
        "db = 'Movies.db'\n",
        "table_name = 'Top_50'\n",
        "csv_path = '/home/project/top_50_films.csv'\n",
        "df = pd.DataFrame([\"Average Rank\",\"Film\",\"Year\"])\n",
        "count = 0\n",
        "\n",
        "# Loading webpage for webscraping\n",
        "html_page = requests.get(url).text\n",
        "data = BeautifulSoup(html_page, 'html.parser')"
      ],
      "metadata": {
        "id": "MMWSlZ7pStKH"
      },
      "execution_count": 27,
      "outputs": []
    },
    {
      "cell_type": "code",
      "source": [
        "# Scraping required data\n",
        "tables = data.find_all('tbody')\n",
        "rows = tables[0].find_all('tr')\n",
        "\n"
      ],
      "metadata": {
        "id": "kVDDJZKQTnn7"
      },
      "execution_count": 41,
      "outputs": []
    },
    {
      "cell_type": "code",
      "source": [
        "\n",
        "for row in rows:\n",
        "    if count < 50 :\n",
        "        col = row.find_all('td')\n",
        "        if len(col)!=0:\n",
        "            data_dict = {\"Average Rank\": int(col[0].contents[0]),\n",
        "                         \"Film\": str(col[1].contents[0]),\n",
        "                         \"Year\": int(col[2].contents[0])}\n",
        "            df1 = pd.DataFrame(data_dict, index=[0])\n",
        "            df = pd.concat([df,df1], ignore_index=True)\n",
        "            count+=1\n",
        "    else:\n",
        "        break\n",
        "\n"
      ],
      "metadata": {
        "id": "-mjjatCZNV6J"
      },
      "execution_count": 37,
      "outputs": []
    },
    {
      "cell_type": "code",
      "source": [
        "print(df)"
      ],
      "metadata": {
        "colab": {
          "base_uri": "https://localhost:8080/"
        },
        "id": "_8RiTOZmFwBG",
        "outputId": "bb1bae58-f820-41e0-ca05-9f76a325cda6"
      },
      "execution_count": 38,
      "outputs": [
        {
          "output_type": "stream",
          "name": "stdout",
          "text": [
            "               0  Average Rank  \\\n",
            "0   Average Rank           NaN   \n",
            "1           Film           NaN   \n",
            "2           Year           NaN   \n",
            "3            NaN           1.0   \n",
            "4            NaN           2.0   \n",
            "5            NaN           3.0   \n",
            "6            NaN           4.0   \n",
            "7            NaN           5.0   \n",
            "8            NaN           6.0   \n",
            "9            NaN           7.0   \n",
            "10           NaN           8.0   \n",
            "11           NaN           9.0   \n",
            "12           NaN          10.0   \n",
            "13           NaN          11.0   \n",
            "14           NaN          12.0   \n",
            "15           NaN          13.0   \n",
            "16           NaN          14.0   \n",
            "17           NaN          15.0   \n",
            "18           NaN          16.0   \n",
            "19           NaN          17.0   \n",
            "20           NaN          18.0   \n",
            "21           NaN          19.0   \n",
            "22           NaN          20.0   \n",
            "23           NaN          21.0   \n",
            "24           NaN          22.0   \n",
            "25           NaN          23.0   \n",
            "26           NaN          24.0   \n",
            "27           NaN          25.0   \n",
            "28           NaN          26.0   \n",
            "29           NaN          27.0   \n",
            "30           NaN          28.0   \n",
            "31           NaN          29.0   \n",
            "32           NaN          30.0   \n",
            "33           NaN          31.0   \n",
            "34           NaN          32.0   \n",
            "35           NaN          33.0   \n",
            "36           NaN          34.0   \n",
            "37           NaN          35.0   \n",
            "38           NaN          36.0   \n",
            "39           NaN          37.0   \n",
            "40           NaN          38.0   \n",
            "41           NaN          39.0   \n",
            "42           NaN          40.0   \n",
            "43           NaN          41.0   \n",
            "44           NaN          42.0   \n",
            "45           NaN          43.0   \n",
            "46           NaN          44.0   \n",
            "47           NaN          45.0   \n",
            "48           NaN          46.0   \n",
            "49           NaN          47.0   \n",
            "50           NaN          48.0   \n",
            "51           NaN          49.0   \n",
            "52           NaN          50.0   \n",
            "\n",
            "                                                 Film    Year  \n",
            "0                                                 NaN     NaN  \n",
            "1                                                 NaN     NaN  \n",
            "2                                                 NaN     NaN  \n",
            "3                                       The Godfather  1972.0  \n",
            "4                                        Citizen Kane  1941.0  \n",
            "5                                          Casablanca  1942.0  \n",
            "6                              The Godfather, Part II  1974.0  \n",
            "7                                 Singin' in the Rain  1952.0  \n",
            "8                                              Psycho  1960.0  \n",
            "9                                         Rear Window  1954.0  \n",
            "10                                     Apocalypse Now  1979.0  \n",
            "11                              2001: A Space Odyssey  1968.0  \n",
            "12                                      Seven Samurai  1954.0  \n",
            "13                                            Vertigo  1958.0  \n",
            "14                                        Sunset Blvd  1950.0  \n",
            "15                                       Modern Times  1936.0  \n",
            "16                                 Lawrence of Arabia  1962.0  \n",
            "17                                 North by Northwest  1959.0  \n",
            "18                                          Star Wars  1977.0  \n",
            "19                                           Parasite  2019.0  \n",
            "20                                   Schindler's List  1993.0  \n",
            "21      Lord of the Rings: The Fellowship of the Ring  2001.0  \n",
            "22                               Shawshank Redemption  1994.0  \n",
            "23                              It's a Wonderful Life  1946.0  \n",
            "24                                       Pulp Fiction  1994.0  \n",
            "25                                  Avengers: Endgame  2019.0  \n",
            "26                                        City Lights  1931.0  \n",
            "27                    One Flew Over the Cuckoo's Nest  1975.0  \n",
            "28                                         Goodfellas  1990.0  \n",
            "29                            Raiders of the Lost Ark  1981.0  \n",
            "30                                       12 Angry Men  1957.0  \n",
            "31                           The Silence of the Lambs  1991.0  \n",
            "32                                        Taxi Driver  1976.0  \n",
            "33                                Saving Private Ryan  1998.0  \n",
            "34                         E.T. the Extra Terrestrial  1982.0  \n",
            "35                                              Alien  1979.0  \n",
            "36                  Spider-Man: Into the Spider-verse  2018.0  \n",
            "37                                       Blade Runner  1982.0  \n",
            "38                                   Double Indemnity  1944.0  \n",
            "39                                    The Dark Knight  2008.0  \n",
            "40  <a href=\"/web/20230902185655/https://en.everyb...  1939.0  \n",
            "41      Star Wars: Episode V- The Empire Strikes Back  1980.0  \n",
            "42                                      The Searchers  1956.0  \n",
            "43                                 Mad Max: Fury Road  2015.0  \n",
            "44                                          Inception  2010.0  \n",
            "45              Lord of the Rings: Return of the King  2003.0  \n",
            "46                                         The Matrix  1999.0  \n",
            "47                                         Fight Club  1999.0  \n",
            "48                                 Back to the Future  1985.0  \n",
            "49                              It Happened One Night  1934.0  \n",
            "50                    The Good, the Bad, and the Ugly  1966.0  \n",
            "51                  Lord of the Rings: The Two Towers  2002.0  \n",
            "52                                      All About Eve  1950.0  \n"
          ]
        }
      ]
    },
    {
      "cell_type": "code",
      "source": [
        "df.to_csv('Desktop')"
      ],
      "metadata": {
        "id": "ldwOAeF2PcTV"
      },
      "execution_count": 39,
      "outputs": []
    },
    {
      "cell_type": "code",
      "source": [
        "conn = sqlite3.connect(db)\n",
        "df.to_sql(table_name, conn, if_exists='replace', index= False)\n",
        "conn.close()"
      ],
      "metadata": {
        "id": "veq9yqHeOyoq"
      },
      "execution_count": 40,
      "outputs": []
    },
    {
      "cell_type": "code",
      "source": [],
      "metadata": {
        "id": "DuhCt4RPPT7q"
      },
      "execution_count": null,
      "outputs": []
    }
  ]
}